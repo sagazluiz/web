{
 "cells": [
  {
   "cell_type": "code",
   "execution_count": null,
   "metadata": {},
   "outputs": [],
   "source": [
    "import pandas as pd\n",
    "from selenium import webdriver\n",
    "from selenium.webdriver.common.by import By\n",
    "from selenium.webdriver.support.ui import WebDriverWait\n",
    "from selenium.webdriver.support import expected_conditions as EC\n",
    "\n",
    "# Configurar o driver do Chrome\n",
    "navegador = webdriver.Chrome()\n",
    "navegador.get('http://www.ssp.sp.gov.br/transparenciassp/Consulta2022.aspx')\n",
    "\n",
    "# Clicar no botão \"Roubo de Veículo\"\n",
    "navegador.find_element(By.ID, 'cphBody_btnRouboVeiculo').click()\n",
    "\n",
    "# Clicar no link \"Ano 22\"\n",
    "navegador.find_element(By.XPATH, '//*[@id=\"cphBody_lkAno22\"]').click()\n",
    "\n",
    "# Lista de meses\n",
    "lista = ['Fevereiro', 'Março']\n",
    "\n",
    "for variavel in lista:\n",
    "    try:\n",
    "        # Aguarde até que o elemento do mês seja clicável\n",
    "        elemento_mes = WebDriverWait(navegador, 10).until(EC.element_to_be_clickable((By.LINK_TEXT, variavel)))\n",
    "        \n",
    "        # Clique no elemento do mês usando JavaScript\n",
    "        navegador.execute_script(\"arguments[0].click();\", elemento_mes)\n",
    "        \n",
    "        # Aguarde até que o botão \"Exportar\" seja clicável\n",
    "        WebDriverWait(navegador, 10).until(EC.element_to_be_clickable((By.ID, 'cphBody_ExportarBOLink')))\n",
    "        \n",
    "        # Clique no botão \"Exportar\"\n",
    "        navegador.find_element(By.ID, 'cphBody_ExportarBOLink').click()\n",
    "        \n",
    "        print(f\"Exportando dados para {variavel}\")\n",
    "    except Exception as e:\n",
    "        print(f\"Erro ao exportar dados para {variavel}: {str(e)}\")\n",
    "\n",
    "# Feche o navegador\n",
    "navegador.quit()\n"
   ]
  },
  {
   "cell_type": "code",
   "execution_count": 6,
   "metadata": {},
   "outputs": [
    {
     "name": "stdout",
     "output_type": "stream",
     "text": [
      "Arquivo DadosBO_2022_2(ROUBO DE VEÍCULOS).xls movido para /Users/r337555/Projects-Personal/web/2base_original/\n",
      "Arquivo DadosBO_2022_3(ROUBO DE VEÍCULOS).xls movido para /Users/r337555/Projects-Personal/web/2base_original/\n"
     ]
    }
   ],
   "source": [
    "import os\n",
    "import shutil\n",
    "from datetime import datetime\n",
    "\n",
    "# Diretório de downloads (substitua pelo caminho do seu diretório de downloads)\n",
    "diretorio_downloads = '../Downloads'\n",
    "\n",
    "# Diretório de destino\n",
    "diretorio_destino = '../web/2base_original/'\n",
    "\n",
    "# Obter a data atual\n",
    "data_atual = datetime.now().date()\n",
    "\n",
    "# Lista de arquivos no diretório de downloads\n",
    "arquivos_downloads = os.listdir(diretorio_downloads)\n",
    "\n",
    "# Extensão dos arquivos a serem movidos (por exemplo, \".xls\")\n",
    "extensao_alvo = \".xls\"\n",
    "\n",
    "# Iterar pelos arquivos no diretório de downloads\n",
    "for arquivo in arquivos_downloads:\n",
    "    caminho_completo = os.path.join(diretorio_downloads, arquivo)\n",
    "    \n",
    "    # Verifique se o arquivo tem a extensão desejada\n",
    "    if arquivo.endswith(extensao_alvo):\n",
    "        # Obtenha a data de criação do arquivo\n",
    "        data_criacao = datetime.fromtimestamp(os.path.getctime(caminho_completo)).date()\n",
    "        \n",
    "        # Verifique se o arquivo foi criado no dia atual\n",
    "        if data_criacao == data_atual:\n",
    "            # Mova o arquivo para o diretório de destino\n",
    "            shutil.move(caminho_completo, os.path.join(diretorio_destino, arquivo))\n",
    "            print(f\"Arquivo {arquivo} movido para {diretorio_destino}\")\n"
   ]
  }
 ],
 "metadata": {
  "hide_input": false,
  "kernelspec": {
   "display_name": "Python 3 (ipykernel)",
   "language": "python",
   "name": "python3"
  },
  "language_info": {
   "codemirror_mode": {
    "name": "ipython",
    "version": 3
   },
   "file_extension": ".py",
   "mimetype": "text/x-python",
   "name": "python",
   "nbconvert_exporter": "python",
   "pygments_lexer": "ipython3",
   "version": "3.11.5"
  },
  "toc": {
   "base_numbering": 1,
   "nav_menu": {},
   "number_sections": true,
   "sideBar": true,
   "skip_h1_title": false,
   "title_cell": "Table of Contents",
   "title_sidebar": "Contents",
   "toc_cell": false,
   "toc_position": {},
   "toc_section_display": true,
   "toc_window_display": false
  }
 },
 "nbformat": 4,
 "nbformat_minor": 2
}
